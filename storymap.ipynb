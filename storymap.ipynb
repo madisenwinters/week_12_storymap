{
 "cells": [
  {
   "cell_type": "markdown",
   "metadata": {},
   "source": [
    "# Creating a Story Map Using Leaflet and CSVs\n",
    "\n",
    "---\n",
    "\n",
    "**Objectives:**\n",
    "\n",
    "By the end of this exericse, you should be able to:\n",
    "\n",
    "* Create an HTML page\n",
    "* Host an interactive map (Leaflet) on GitHub Pages\n",
    "* Create a storymap using Python, Leaflet, and CSV files\n",
    "\n",
    "---\n",
    "\n",
    "In this exercise, you will learn how to present spatial data in an interactive narrative similar to [ESRI StoryMaps](https://storymaps-classic.arcgis.com/en/gallery/#s=0) using open source products. You will learn how to host a live version of an HTML webpage on GitHub Pages.\n",
    "\n",
    "<!-- If you double-click on the `raleigh.html` file in your folder, a map will open in your web browser. Next, let's open the `raleigh.html` file in **VS Code**. -->\n",
    "\n",
    "This code is adapted from the `index.html` file from [this GitHub repository](https://github.com/HandsOnDataViz/leaflet-map-simple).\n",
    "\n",
    "This exercise is an adaptation of the [\"Leaflet Storymaps with Google Sheets\" tutorial](https://handsondataviz.org/leaflet-storymaps-with-google-sheets.html) from the *Hands-On Data Visualization* book by Jack Dougherty & Ilya Ilyankou. The open-acess web edition of the book can be found [here](https://handsondataviz.org/).\n",
    "\n",
    "Dougherty and Ilyankou developed Leaflet Storymaps with Google Sheets to create an open-source, easily migratable, story map tool. In this exercise, we are adapting their work with Google Sheets into using Python to create and edit CSVs to create the open-source storymap."
   ]
  },
  {
   "cell_type": "markdown",
   "metadata": {},
   "source": [
    "### Host a Live Leaflet Map on GitHub Pages\n",
    "\n",
    "In order to host your storymap on the internet, you need to create a GitHub repository for this project. The best way to do this is to **fork** the leaflet-storymap-nr491 repo from [this repo](https://github.com/mdgaines/leaflet-storymap-nr491) on my (Mollie Gaines') GitHub.\n",
    "\n",
    "Go to Settings > Pages and set Branch to `main` and save.\n",
    "\n",
    "Edit your README.md to have the link to your new repo."
   ]
  },
  {
   "cell_type": "markdown",
   "metadata": {},
   "source": [
    "### Leaflet Storymap with CSVs\n",
    "\n",
    "We are now going to start working on our Leaflet Storymap by building several `pandas dataframes` which we can save as a CSVs.\n",
    "\n",
    "Our storymap will have a scrolling narrative that follows points along our map. You will learn how to add images, audio and video files, and different map backgrounds. \n",
    "\n",
    "We will build an in-class storymap to looking at different colleges and universities in Wake County."
   ]
  },
  {
   "cell_type": "code",
   "execution_count": 39,
   "metadata": {},
   "outputs": [],
   "source": [
    "import pandas as pd\n",
    "import geopandas as gpd\n",
    "import os\n",
    "import folium # gives you preview of map, makes leaflet accessible to python\n",
    "import csv"
   ]
  },
  {
   "cell_type": "markdown",
   "metadata": {},
   "source": [
    "First, we will create an `Options.csv` file and save it in our `csv/` directory. We will create this CSV to look like the **Options** tab in the Google Sheet from the HODV exercise.\n",
    "\n",
    "![GS_Options](./imgs/gs_options.PNG)"
   ]
  },
  {
   "cell_type": "code",
   "execution_count": 40,
   "metadata": {},
   "outputs": [],
   "source": [
    "# Create lists for each row we are writing in our csv, above picture\n",
    "# build CSV file by creating lots of lists\n",
    "\n",
    "header = ['Setting', 'Customize', 'Hints'] # list of three things\n",
    "info = ['Storymap Info', '', \\\n",
    "    'For help, see tutorial in [HandsOnDataViz.org](https://handsondataviz.org/leaflet-storymaps-with-google-sheets.html)']\n",
    "title = ['Storymap Title', 'NR491 Leaflet Storymap Demo', '']\n",
    "subtitle = ['Storymap Subtitle', \\\n",
    "    \"Colleges and Universities in Wake County<br><small>Scroll down<i class='fafa-chevron-down'></i></small>\",\\\n",
    "    \"Add your subtitle, or delete that portion\"]\n",
    "logo = ['Storymap Logo', 'media/ncsu_logo.jpg', 'Path to a logo image']\n",
    "google_analysis = ['Google Analytics Tracking ID', '', 'Sample format: UA-5488840-29']\n",
    "\n",
    "map_settings = ['Map Settings', '', '']\n",
    "basemap_tiles = ['Basemap Tiles', 'CartoDB.Positron',\\\n",
    "    '[Drop-down menu for background basemap tiles](https://leaflet-extras.github.io/leaflet-providers/preview/)']\n",
    "zoom = ['Zoom Controls', 'bottomright', '']\n",
    "bg_color = ['Narrative Background Color', '', '']\n",
    "txt_color = ['Narrative Text Color', '', '']\n",
    "lnk_color = ['Narrative Link Color', '', '']\n",
    "ch_color = ['Active Chapter Background Color','','']\n",
    "media_height = ['Media Container Height','300',\\\n",
    "    'Maximum height of the image, in pixels. 200 is default. The image will be fit into the container with its proportions kept (it won\\'t be skewed).']\n",
    "pixels_after_char = ['Pixels After Final Chapter','600','In pixels, at least 100']\n",
    "lightbox_imgs = ['Enable Lightbox for Images','yes','yes or no']\n",
    "\n",
    "creds = ['Credits','','']\n",
    "auth_name = ['Author Name','Add your name','Appears in map credits as \"View data by...\" (or leave blank)']\n",
    "auth_email = ['Author Email or Website','','Create link in Author Name by inserting your email or web address (or leave blank)']\n",
    "auth_GH = ['Author GitHub Repo Link','https://github.com/handsondataviz/leaflet-storymaps-with-google-sheets',\\\n",
    "    'Insert your code repo URL to appear as link in \"View code...\" (or leave blank)']\n",
    "code_cred = ['Code Credit','<a href=\"https://handsondataviz.org\">HandsOnDataViz</a>',\\\n",
    "    'Appears in credits as \"...code by...\" (or leave blank)']"
   ]
  },
  {
   "cell_type": "markdown",
   "metadata": {},
   "source": [
    "**NOTE:** you can have several different basemap tiles that will appear in the background. \n",
    "The options we will look at are:\n",
    "\n",
    "![Basemaps](./imgs/gs_basemap_tiles.PNG)\n",
    "\n",
    "We can also choose where on our map we put our zoom controls. The options are:\n",
    "\n",
    "![zoom](./imgs/gs_zoom.PNG)\n",
    "\n",
    "Now, we'll write our first CSV."
   ]
  },
  {
   "cell_type": "code",
   "execution_count": 41,
   "metadata": {},
   "outputs": [],
   "source": [
    "# Check that the csv directory exists\n",
    "if not os.path.exists('./csv'):\n",
    "    os.mkdir('./csv')\n",
    "\n",
    "# Create a new Options.csv\n",
    "\n",
    "# opens a csv file in write mode\n",
    "# the with statement makes sure the file closes properly when we're done\n",
    "with open('./csv/Options_Template.csv', 'w', newline='') as options:\n",
    "    # create the csv writer/ csv file\n",
    "    writer = csv.writer(options)\n",
    "\n",
    "    # write a row to the csv file\n",
    "    writer.writerow(header)\n",
    "\n",
    "    writer.writerow(info)\n",
    "    writer.writerow(title)\n",
    "    writer.writerow(subtitle)\n",
    "    writer.writerow(logo)\n",
    "    writer.writerow(google_analysis)\n",
    "\n",
    "    writer.writerow(map_settings)\n",
    "    writer.writerow(basemap_tiles)\n",
    "    writer.writerow(zoom)\n",
    "    writer.writerow(bg_color)\n",
    "    writer.writerow(txt_color)\n",
    "    writer.writerow(lnk_color)\n",
    "    writer.writerow(ch_color)\n",
    "    writer.writerow(media_height)\n",
    "    writer.writerow(pixels_after_char)\n",
    "    writer.writerow(lightbox_imgs)\n",
    "\n",
    "    writer.writerow(creds)\n",
    "    writer.writerow(auth_name)\n",
    "    writer.writerow(auth_email)\n",
    "    writer.writerow(auth_GH)\n",
    "    writer.writerow(code_cred)\n"
   ]
  },
  {
   "cell_type": "markdown",
   "metadata": {},
   "source": [
    "Now that we've saved our CSV, we will read it in as a Pandas DataFrame and make some edits so it is personalized for us.\n",
    "\n",
    "**Note:** We could have written our original CSV with all the information we wanted, however now we can practice making edits."
   ]
  },
  {
   "cell_type": "code",
   "execution_count": 42,
   "metadata": {},
   "outputs": [
    {
     "data": {
      "text/html": [
       "<div>\n",
       "<style scoped>\n",
       "    .dataframe tbody tr th:only-of-type {\n",
       "        vertical-align: middle;\n",
       "    }\n",
       "\n",
       "    .dataframe tbody tr th {\n",
       "        vertical-align: top;\n",
       "    }\n",
       "\n",
       "    .dataframe thead th {\n",
       "        text-align: right;\n",
       "    }\n",
       "</style>\n",
       "<table border=\"1\" class=\"dataframe\">\n",
       "  <thead>\n",
       "    <tr style=\"text-align: right;\">\n",
       "      <th></th>\n",
       "      <th>Customize</th>\n",
       "      <th>Hints</th>\n",
       "    </tr>\n",
       "    <tr>\n",
       "      <th>Setting</th>\n",
       "      <th></th>\n",
       "      <th></th>\n",
       "    </tr>\n",
       "  </thead>\n",
       "  <tbody>\n",
       "    <tr>\n",
       "      <th>Storymap Info</th>\n",
       "      <td>NaN</td>\n",
       "      <td>For help, see tutorial in [HandsOnDataViz.org]...</td>\n",
       "    </tr>\n",
       "    <tr>\n",
       "      <th>Storymap Title</th>\n",
       "      <td>NR491 Leaflet Storymap Demo</td>\n",
       "      <td>NaN</td>\n",
       "    </tr>\n",
       "    <tr>\n",
       "      <th>Storymap Subtitle</th>\n",
       "      <td>Colleges and Universities in Wake County&lt;br&gt;&lt;s...</td>\n",
       "      <td>Add your subtitle, or delete that portion</td>\n",
       "    </tr>\n",
       "    <tr>\n",
       "      <th>Storymap Logo</th>\n",
       "      <td>media/ncsu_logo.jpg</td>\n",
       "      <td>Path to a logo image</td>\n",
       "    </tr>\n",
       "    <tr>\n",
       "      <th>Google Analytics Tracking ID</th>\n",
       "      <td>NaN</td>\n",
       "      <td>Sample format: UA-5488840-29</td>\n",
       "    </tr>\n",
       "    <tr>\n",
       "      <th>Map Settings</th>\n",
       "      <td>NaN</td>\n",
       "      <td>NaN</td>\n",
       "    </tr>\n",
       "    <tr>\n",
       "      <th>Basemap Tiles</th>\n",
       "      <td>CartoDB.Positron</td>\n",
       "      <td>[Drop-down menu for background basemap tiles](...</td>\n",
       "    </tr>\n",
       "    <tr>\n",
       "      <th>Zoom Controls</th>\n",
       "      <td>bottomright</td>\n",
       "      <td>NaN</td>\n",
       "    </tr>\n",
       "    <tr>\n",
       "      <th>Narrative Background Color</th>\n",
       "      <td>NaN</td>\n",
       "      <td>NaN</td>\n",
       "    </tr>\n",
       "    <tr>\n",
       "      <th>Narrative Text Color</th>\n",
       "      <td>NaN</td>\n",
       "      <td>NaN</td>\n",
       "    </tr>\n",
       "    <tr>\n",
       "      <th>Narrative Link Color</th>\n",
       "      <td>NaN</td>\n",
       "      <td>NaN</td>\n",
       "    </tr>\n",
       "    <tr>\n",
       "      <th>Active Chapter Background Color</th>\n",
       "      <td>NaN</td>\n",
       "      <td>NaN</td>\n",
       "    </tr>\n",
       "    <tr>\n",
       "      <th>Media Container Height</th>\n",
       "      <td>300</td>\n",
       "      <td>Maximum height of the image, in pixels. 200 is...</td>\n",
       "    </tr>\n",
       "    <tr>\n",
       "      <th>Pixels After Final Chapter</th>\n",
       "      <td>600</td>\n",
       "      <td>In pixels, at least 100</td>\n",
       "    </tr>\n",
       "    <tr>\n",
       "      <th>Enable Lightbox for Images</th>\n",
       "      <td>yes</td>\n",
       "      <td>yes or no</td>\n",
       "    </tr>\n",
       "    <tr>\n",
       "      <th>Credits</th>\n",
       "      <td>NaN</td>\n",
       "      <td>NaN</td>\n",
       "    </tr>\n",
       "    <tr>\n",
       "      <th>Author Name</th>\n",
       "      <td>Add your name</td>\n",
       "      <td>Appears in map credits as \"View data by...\" (o...</td>\n",
       "    </tr>\n",
       "    <tr>\n",
       "      <th>Author Email or Website</th>\n",
       "      <td>NaN</td>\n",
       "      <td>Create link in Author Name by inserting your e...</td>\n",
       "    </tr>\n",
       "    <tr>\n",
       "      <th>Author GitHub Repo Link</th>\n",
       "      <td>https://github.com/handsondataviz/leaflet-stor...</td>\n",
       "      <td>Insert your code repo URL to appear as link in...</td>\n",
       "    </tr>\n",
       "    <tr>\n",
       "      <th>Code Credit</th>\n",
       "      <td>&lt;a href=\"https://handsondataviz.org\"&gt;HandsOnDa...</td>\n",
       "      <td>Appears in credits as \"...code by...\" (or leav...</td>\n",
       "    </tr>\n",
       "  </tbody>\n",
       "</table>\n",
       "</div>"
      ],
      "text/plain": [
       "                                                                         Customize  \\\n",
       "Setting                                                                              \n",
       "Storymap Info                                                                  NaN   \n",
       "Storymap Title                                         NR491 Leaflet Storymap Demo   \n",
       "Storymap Subtitle                Colleges and Universities in Wake County<br><s...   \n",
       "Storymap Logo                                                  media/ncsu_logo.jpg   \n",
       "Google Analytics Tracking ID                                                   NaN   \n",
       "Map Settings                                                                   NaN   \n",
       "Basemap Tiles                                                     CartoDB.Positron   \n",
       "Zoom Controls                                                          bottomright   \n",
       "Narrative Background Color                                                     NaN   \n",
       "Narrative Text Color                                                           NaN   \n",
       "Narrative Link Color                                                           NaN   \n",
       "Active Chapter Background Color                                                NaN   \n",
       "Media Container Height                                                         300   \n",
       "Pixels After Final Chapter                                                     600   \n",
       "Enable Lightbox for Images                                                     yes   \n",
       "Credits                                                                        NaN   \n",
       "Author Name                                                          Add your name   \n",
       "Author Email or Website                                                        NaN   \n",
       "Author GitHub Repo Link          https://github.com/handsondataviz/leaflet-stor...   \n",
       "Code Credit                      <a href=\"https://handsondataviz.org\">HandsOnDa...   \n",
       "\n",
       "                                                                             Hints  \n",
       "Setting                                                                             \n",
       "Storymap Info                    For help, see tutorial in [HandsOnDataViz.org]...  \n",
       "Storymap Title                                                                 NaN  \n",
       "Storymap Subtitle                        Add your subtitle, or delete that portion  \n",
       "Storymap Logo                                                 Path to a logo image  \n",
       "Google Analytics Tracking ID                          Sample format: UA-5488840-29  \n",
       "Map Settings                                                                   NaN  \n",
       "Basemap Tiles                    [Drop-down menu for background basemap tiles](...  \n",
       "Zoom Controls                                                                  NaN  \n",
       "Narrative Background Color                                                     NaN  \n",
       "Narrative Text Color                                                           NaN  \n",
       "Narrative Link Color                                                           NaN  \n",
       "Active Chapter Background Color                                                NaN  \n",
       "Media Container Height           Maximum height of the image, in pixels. 200 is...  \n",
       "Pixels After Final Chapter                                 In pixels, at least 100  \n",
       "Enable Lightbox for Images                                               yes or no  \n",
       "Credits                                                                        NaN  \n",
       "Author Name                      Appears in map credits as \"View data by...\" (o...  \n",
       "Author Email or Website          Create link in Author Name by inserting your e...  \n",
       "Author GitHub Repo Link          Insert your code repo URL to appear as link in...  \n",
       "Code Credit                      Appears in credits as \"...code by...\" (or leav...  "
      ]
     },
     "execution_count": 42,
     "metadata": {},
     "output_type": "execute_result"
    }
   ],
   "source": [
    "# read in the options csv as a data frame\n",
    "options_df = pd.read_csv('./csv/Options_Template.csv', index_col=0)\n",
    "options_df"
   ]
  },
  {
   "cell_type": "code",
   "execution_count": 43,
   "metadata": {},
   "outputs": [
    {
     "data": {
      "text/html": [
       "<div>\n",
       "<style scoped>\n",
       "    .dataframe tbody tr th:only-of-type {\n",
       "        vertical-align: middle;\n",
       "    }\n",
       "\n",
       "    .dataframe tbody tr th {\n",
       "        vertical-align: top;\n",
       "    }\n",
       "\n",
       "    .dataframe thead th {\n",
       "        text-align: right;\n",
       "    }\n",
       "</style>\n",
       "<table border=\"1\" class=\"dataframe\">\n",
       "  <thead>\n",
       "    <tr style=\"text-align: right;\">\n",
       "      <th></th>\n",
       "      <th>Customize</th>\n",
       "      <th>Hints</th>\n",
       "    </tr>\n",
       "    <tr>\n",
       "      <th>Setting</th>\n",
       "      <th></th>\n",
       "      <th></th>\n",
       "    </tr>\n",
       "  </thead>\n",
       "  <tbody>\n",
       "    <tr>\n",
       "      <th>Storymap Info</th>\n",
       "      <td>NaN</td>\n",
       "      <td>For help, see tutorial in [HandsOnDataViz.org]...</td>\n",
       "    </tr>\n",
       "    <tr>\n",
       "      <th>Storymap Title</th>\n",
       "      <td>NR491 Leaflet Storymap Demo</td>\n",
       "      <td>NaN</td>\n",
       "    </tr>\n",
       "    <tr>\n",
       "      <th>Storymap Subtitle</th>\n",
       "      <td>Colleges and Universities in Wake County&lt;br&gt;&lt;s...</td>\n",
       "      <td>Add your subtitle, or delete that portion</td>\n",
       "    </tr>\n",
       "    <tr>\n",
       "      <th>Storymap Logo</th>\n",
       "      <td>media/ncsu_logo.jpg</td>\n",
       "      <td>Path to a logo image</td>\n",
       "    </tr>\n",
       "    <tr>\n",
       "      <th>Google Analytics Tracking ID</th>\n",
       "      <td>NaN</td>\n",
       "      <td>Sample format: UA-5488840-29</td>\n",
       "    </tr>\n",
       "    <tr>\n",
       "      <th>Map Settings</th>\n",
       "      <td>NaN</td>\n",
       "      <td>NaN</td>\n",
       "    </tr>\n",
       "    <tr>\n",
       "      <th>Basemap Tiles</th>\n",
       "      <td>CartoDB.Positron</td>\n",
       "      <td>[Drop-down menu for background basemap tiles](...</td>\n",
       "    </tr>\n",
       "    <tr>\n",
       "      <th>Zoom Controls</th>\n",
       "      <td>bottomright</td>\n",
       "      <td>NaN</td>\n",
       "    </tr>\n",
       "    <tr>\n",
       "      <th>Narrative Background Color</th>\n",
       "      <td>lightgray</td>\n",
       "      <td>NaN</td>\n",
       "    </tr>\n",
       "    <tr>\n",
       "      <th>Narrative Text Color</th>\n",
       "      <td>NaN</td>\n",
       "      <td>NaN</td>\n",
       "    </tr>\n",
       "    <tr>\n",
       "      <th>Narrative Link Color</th>\n",
       "      <td>NaN</td>\n",
       "      <td>NaN</td>\n",
       "    </tr>\n",
       "    <tr>\n",
       "      <th>Active Chapter Background Color</th>\n",
       "      <td>NaN</td>\n",
       "      <td>NaN</td>\n",
       "    </tr>\n",
       "    <tr>\n",
       "      <th>Media Container Height</th>\n",
       "      <td>300</td>\n",
       "      <td>Maximum height of the image, in pixels. 200 is...</td>\n",
       "    </tr>\n",
       "    <tr>\n",
       "      <th>Pixels After Final Chapter</th>\n",
       "      <td>600</td>\n",
       "      <td>In pixels, at least 100</td>\n",
       "    </tr>\n",
       "    <tr>\n",
       "      <th>Enable Lightbox for Images</th>\n",
       "      <td>yes</td>\n",
       "      <td>yes or no</td>\n",
       "    </tr>\n",
       "    <tr>\n",
       "      <th>Credits</th>\n",
       "      <td>NaN</td>\n",
       "      <td>NaN</td>\n",
       "    </tr>\n",
       "    <tr>\n",
       "      <th>Author Name</th>\n",
       "      <td>Add your name</td>\n",
       "      <td>Appears in map credits as \"View data by...\" (o...</td>\n",
       "    </tr>\n",
       "    <tr>\n",
       "      <th>Author Email or Website</th>\n",
       "      <td>NaN</td>\n",
       "      <td>Create link in Author Name by inserting your e...</td>\n",
       "    </tr>\n",
       "    <tr>\n",
       "      <th>Author GitHub Repo Link</th>\n",
       "      <td>https://github.com/handsondataviz/leaflet-stor...</td>\n",
       "      <td>Insert your code repo URL to appear as link in...</td>\n",
       "    </tr>\n",
       "    <tr>\n",
       "      <th>Code Credit</th>\n",
       "      <td>&lt;a href=\"https://handsondataviz.org\"&gt;HandsOnDa...</td>\n",
       "      <td>Appears in credits as \"...code by...\" (or leav...</td>\n",
       "    </tr>\n",
       "  </tbody>\n",
       "</table>\n",
       "</div>"
      ],
      "text/plain": [
       "                                                                         Customize  \\\n",
       "Setting                                                                              \n",
       "Storymap Info                                                                  NaN   \n",
       "Storymap Title                                         NR491 Leaflet Storymap Demo   \n",
       "Storymap Subtitle                Colleges and Universities in Wake County<br><s...   \n",
       "Storymap Logo                                                  media/ncsu_logo.jpg   \n",
       "Google Analytics Tracking ID                                                   NaN   \n",
       "Map Settings                                                                   NaN   \n",
       "Basemap Tiles                                                     CartoDB.Positron   \n",
       "Zoom Controls                                                          bottomright   \n",
       "Narrative Background Color                                               lightgray   \n",
       "Narrative Text Color                                                           NaN   \n",
       "Narrative Link Color                                                           NaN   \n",
       "Active Chapter Background Color                                                NaN   \n",
       "Media Container Height                                                         300   \n",
       "Pixels After Final Chapter                                                     600   \n",
       "Enable Lightbox for Images                                                     yes   \n",
       "Credits                                                                        NaN   \n",
       "Author Name                                                          Add your name   \n",
       "Author Email or Website                                                        NaN   \n",
       "Author GitHub Repo Link          https://github.com/handsondataviz/leaflet-stor...   \n",
       "Code Credit                      <a href=\"https://handsondataviz.org\">HandsOnDa...   \n",
       "\n",
       "                                                                             Hints  \n",
       "Setting                                                                             \n",
       "Storymap Info                    For help, see tutorial in [HandsOnDataViz.org]...  \n",
       "Storymap Title                                                                 NaN  \n",
       "Storymap Subtitle                        Add your subtitle, or delete that portion  \n",
       "Storymap Logo                                                 Path to a logo image  \n",
       "Google Analytics Tracking ID                          Sample format: UA-5488840-29  \n",
       "Map Settings                                                                   NaN  \n",
       "Basemap Tiles                    [Drop-down menu for background basemap tiles](...  \n",
       "Zoom Controls                                                                  NaN  \n",
       "Narrative Background Color                                                     NaN  \n",
       "Narrative Text Color                                                           NaN  \n",
       "Narrative Link Color                                                           NaN  \n",
       "Active Chapter Background Color                                                NaN  \n",
       "Media Container Height           Maximum height of the image, in pixels. 200 is...  \n",
       "Pixels After Final Chapter                                 In pixels, at least 100  \n",
       "Enable Lightbox for Images                                               yes or no  \n",
       "Credits                                                                        NaN  \n",
       "Author Name                      Appears in map credits as \"View data by...\" (o...  \n",
       "Author Email or Website          Create link in Author Name by inserting your e...  \n",
       "Author GitHub Repo Link          Insert your code repo URL to appear as link in...  \n",
       "Code Credit                      Appears in credits as \"...code by...\" (or leav...  "
      ]
     },
     "execution_count": 43,
     "metadata": {},
     "output_type": "execute_result"
    }
   ],
   "source": [
    "# we will index to the specific entry we want to edit using df[col][row] indexing.\n",
    "# we read in the df with the first column as our index to make this easier for ourselves\n",
    "\n",
    "# here, we are changing the background color of our narative bar\n",
    "# indexing to update cell in dataframe! adding light gray to table\n",
    "options_df['Customize']['Narrative Background Color'] = 'lightgray'\n",
    "\n",
    "options_df"
   ]
  },
  {
   "cell_type": "code",
   "execution_count": 44,
   "metadata": {},
   "outputs": [],
   "source": [
    "# Next, make edits to the Author Name and Author Github Repo Link so it has your information\n",
    "options_df['Customize']['Author Name'] = 'Madisen Winters'\n",
    "options_df['Customize']['Author GitHub Repo Link\t'] = 'https://madisenwinters.github.io/week_12_storymap'\n",
    "\n",
    "# save your options df as Options.csv\n",
    "options_df.to_csv('./csv/Options.csv')\n",
    "\n"
   ]
  },
  {
   "cell_type": "code",
   "execution_count": 45,
   "metadata": {},
   "outputs": [
    {
     "data": {
      "text/html": [
       "<div>\n",
       "<style scoped>\n",
       "    .dataframe tbody tr th:only-of-type {\n",
       "        vertical-align: middle;\n",
       "    }\n",
       "\n",
       "    .dataframe tbody tr th {\n",
       "        vertical-align: top;\n",
       "    }\n",
       "\n",
       "    .dataframe thead th {\n",
       "        text-align: right;\n",
       "    }\n",
       "</style>\n",
       "<table border=\"1\" class=\"dataframe\">\n",
       "  <thead>\n",
       "    <tr style=\"text-align: right;\">\n",
       "      <th></th>\n",
       "      <th>Customize</th>\n",
       "      <th>Hints</th>\n",
       "    </tr>\n",
       "    <tr>\n",
       "      <th>Setting</th>\n",
       "      <th></th>\n",
       "      <th></th>\n",
       "    </tr>\n",
       "  </thead>\n",
       "  <tbody>\n",
       "    <tr>\n",
       "      <th>Storymap Info</th>\n",
       "      <td>NaN</td>\n",
       "      <td>For help, see tutorial in [HandsOnDataViz.org]...</td>\n",
       "    </tr>\n",
       "    <tr>\n",
       "      <th>Storymap Title</th>\n",
       "      <td>NR491 Leaflet Storymap Demo</td>\n",
       "      <td>NaN</td>\n",
       "    </tr>\n",
       "    <tr>\n",
       "      <th>Storymap Subtitle</th>\n",
       "      <td>Colleges and Universities in Wake County&lt;br&gt;&lt;s...</td>\n",
       "      <td>Add your subtitle, or delete that portion</td>\n",
       "    </tr>\n",
       "    <tr>\n",
       "      <th>Storymap Logo</th>\n",
       "      <td>media/ncsu_logo.jpg</td>\n",
       "      <td>Path to a logo image</td>\n",
       "    </tr>\n",
       "    <tr>\n",
       "      <th>Google Analytics Tracking ID</th>\n",
       "      <td>NaN</td>\n",
       "      <td>Sample format: UA-5488840-29</td>\n",
       "    </tr>\n",
       "    <tr>\n",
       "      <th>Map Settings</th>\n",
       "      <td>NaN</td>\n",
       "      <td>NaN</td>\n",
       "    </tr>\n",
       "    <tr>\n",
       "      <th>Basemap Tiles</th>\n",
       "      <td>CartoDB.Positron</td>\n",
       "      <td>[Drop-down menu for background basemap tiles](...</td>\n",
       "    </tr>\n",
       "    <tr>\n",
       "      <th>Zoom Controls</th>\n",
       "      <td>bottomright</td>\n",
       "      <td>NaN</td>\n",
       "    </tr>\n",
       "    <tr>\n",
       "      <th>Narrative Background Color</th>\n",
       "      <td>lightgray</td>\n",
       "      <td>NaN</td>\n",
       "    </tr>\n",
       "    <tr>\n",
       "      <th>Narrative Text Color</th>\n",
       "      <td>NaN</td>\n",
       "      <td>NaN</td>\n",
       "    </tr>\n",
       "    <tr>\n",
       "      <th>Narrative Link Color</th>\n",
       "      <td>NaN</td>\n",
       "      <td>NaN</td>\n",
       "    </tr>\n",
       "    <tr>\n",
       "      <th>Active Chapter Background Color</th>\n",
       "      <td>NaN</td>\n",
       "      <td>NaN</td>\n",
       "    </tr>\n",
       "    <tr>\n",
       "      <th>Media Container Height</th>\n",
       "      <td>300</td>\n",
       "      <td>Maximum height of the image, in pixels. 200 is...</td>\n",
       "    </tr>\n",
       "    <tr>\n",
       "      <th>Pixels After Final Chapter</th>\n",
       "      <td>600</td>\n",
       "      <td>In pixels, at least 100</td>\n",
       "    </tr>\n",
       "    <tr>\n",
       "      <th>Enable Lightbox for Images</th>\n",
       "      <td>yes</td>\n",
       "      <td>yes or no</td>\n",
       "    </tr>\n",
       "    <tr>\n",
       "      <th>Credits</th>\n",
       "      <td>NaN</td>\n",
       "      <td>NaN</td>\n",
       "    </tr>\n",
       "    <tr>\n",
       "      <th>Author Name</th>\n",
       "      <td>Madisen Winters</td>\n",
       "      <td>Appears in map credits as \"View data by...\" (o...</td>\n",
       "    </tr>\n",
       "    <tr>\n",
       "      <th>Author Email or Website</th>\n",
       "      <td>NaN</td>\n",
       "      <td>Create link in Author Name by inserting your e...</td>\n",
       "    </tr>\n",
       "    <tr>\n",
       "      <th>Author GitHub Repo Link</th>\n",
       "      <td>https://github.com/handsondataviz/leaflet-stor...</td>\n",
       "      <td>Insert your code repo URL to appear as link in...</td>\n",
       "    </tr>\n",
       "    <tr>\n",
       "      <th>Code Credit</th>\n",
       "      <td>&lt;a href=\"https://handsondataviz.org\"&gt;HandsOnDa...</td>\n",
       "      <td>Appears in credits as \"...code by...\" (or leav...</td>\n",
       "    </tr>\n",
       "  </tbody>\n",
       "</table>\n",
       "</div>"
      ],
      "text/plain": [
       "                                                                         Customize  \\\n",
       "Setting                                                                              \n",
       "Storymap Info                                                                  NaN   \n",
       "Storymap Title                                         NR491 Leaflet Storymap Demo   \n",
       "Storymap Subtitle                Colleges and Universities in Wake County<br><s...   \n",
       "Storymap Logo                                                  media/ncsu_logo.jpg   \n",
       "Google Analytics Tracking ID                                                   NaN   \n",
       "Map Settings                                                                   NaN   \n",
       "Basemap Tiles                                                     CartoDB.Positron   \n",
       "Zoom Controls                                                          bottomright   \n",
       "Narrative Background Color                                               lightgray   \n",
       "Narrative Text Color                                                           NaN   \n",
       "Narrative Link Color                                                           NaN   \n",
       "Active Chapter Background Color                                                NaN   \n",
       "Media Container Height                                                         300   \n",
       "Pixels After Final Chapter                                                     600   \n",
       "Enable Lightbox for Images                                                     yes   \n",
       "Credits                                                                        NaN   \n",
       "Author Name                                                        Madisen Winters   \n",
       "Author Email or Website                                                        NaN   \n",
       "Author GitHub Repo Link          https://github.com/handsondataviz/leaflet-stor...   \n",
       "Code Credit                      <a href=\"https://handsondataviz.org\">HandsOnDa...   \n",
       "\n",
       "                                                                             Hints  \n",
       "Setting                                                                             \n",
       "Storymap Info                    For help, see tutorial in [HandsOnDataViz.org]...  \n",
       "Storymap Title                                                                 NaN  \n",
       "Storymap Subtitle                        Add your subtitle, or delete that portion  \n",
       "Storymap Logo                                                 Path to a logo image  \n",
       "Google Analytics Tracking ID                          Sample format: UA-5488840-29  \n",
       "Map Settings                                                                   NaN  \n",
       "Basemap Tiles                    [Drop-down menu for background basemap tiles](...  \n",
       "Zoom Controls                                                                  NaN  \n",
       "Narrative Background Color                                                     NaN  \n",
       "Narrative Text Color                                                           NaN  \n",
       "Narrative Link Color                                                           NaN  \n",
       "Active Chapter Background Color                                                NaN  \n",
       "Media Container Height           Maximum height of the image, in pixels. 200 is...  \n",
       "Pixels After Final Chapter                                 In pixels, at least 100  \n",
       "Enable Lightbox for Images                                               yes or no  \n",
       "Credits                                                                        NaN  \n",
       "Author Name                      Appears in map credits as \"View data by...\" (o...  \n",
       "Author Email or Website          Create link in Author Name by inserting your e...  \n",
       "Author GitHub Repo Link          Insert your code repo URL to appear as link in...  \n",
       "Code Credit                      Appears in credits as \"...code by...\" (or leav...  "
      ]
     },
     "execution_count": 45,
     "metadata": {},
     "output_type": "execute_result"
    }
   ],
   "source": [
    "options_df"
   ]
  },
  {
   "cell_type": "code",
   "execution_count": 46,
   "metadata": {},
   "outputs": [],
   "source": [
    "options_df['Customize']['Author Github Repo Link'] = 'https://github.com/madisenwinters/week_12_storymap'\n",
    "options_df\n",
    "options_df.to_csv('./csv/Options.csv')"
   ]
  },
  {
   "cell_type": "code",
   "execution_count": 47,
   "metadata": {},
   "outputs": [],
   "source": [
    "# options_df['Customize']['Basemap Tiles']= 'Stamen.TerrainBackground'\n",
    "# options_df"
   ]
  },
  {
   "cell_type": "code",
   "execution_count": 48,
   "metadata": {},
   "outputs": [],
   "source": [
    "# options_df['Customize']['Zoom Controls'] = 'topleft'\n",
    "# options_df"
   ]
  },
  {
   "cell_type": "code",
   "execution_count": 49,
   "metadata": {},
   "outputs": [],
   "source": [
    "# save your options df as Options.csv\n",
    "options_df.to_csv('./csv/Options.csv')"
   ]
  },
  {
   "cell_type": "markdown",
   "metadata": {},
   "source": [
    "Now let's checkout what our index.html file looks like so far."
   ]
  },
  {
   "cell_type": "markdown",
   "metadata": {},
   "source": [
    "### Chapters\n",
    "\n",
    "We will add content to our map by creating a `Chapters.csv`.\n",
    "\n",
    "However, first we will look through our data to get the information we are interested in."
   ]
  },
  {
   "cell_type": "markdown",
   "metadata": {},
   "source": [
    "Now, let's read in some of our spatial data."
   ]
  },
  {
   "cell_type": "code",
   "execution_count": null,
   "metadata": {},
   "outputs": [],
   "source": [
    "# Filepaths\n",
    "nc_colleges_path = './data/Colleges_and_Universities/Colleges_and_Universities.shp'\n",
    "nc_amtrak_stations_path = './data/Amtrak_Stations_Trains_Reproj_NC/Amtrak_Stations_Trains_Reproj_NC.shp'\n",
    "\n",
    "# Read data\n",
    "nc_colleges = gpd.read_file(nc_colleges_path)\n",
    "nc_amtrak_stations = gpd.read_file(nc_amtrak_stations_path)\n",
    "\n",
    "# Print CRS\n",
    "print(nc_colleges.crs)\n",
    "print(nc_amtrak_stations.crs)\n"
   ]
  },
  {
   "cell_type": "code",
   "execution_count": null,
   "metadata": {},
   "outputs": [],
   "source": [
    "# Reproject to WGS84\n",
    "nc_colleges_wgs84 = nc_colleges.to_crs(epsg=4326)\n",
    "nc_amtrak_stations_wgs84 = nc_amtrak_stations.to_crs(epsg=4326)\n",
    "\n",
    "# Create a Geo-id which is needed by the Folium (it needs to have a unique identifier for each row)\n",
    "nc_colleges_wgs84['geoid'] = nc_colleges_wgs84.index.astype(str)\n",
    "nc_amtrak_stations_wgs84['geoid'] = nc_amtrak_stations_wgs84.index.astype(str)"
   ]
  },
  {
   "cell_type": "markdown",
   "metadata": {},
   "source": [
    "We can use the `folium` package to see what our Leaflet map will look like."
   ]
  },
  {
   "cell_type": "code",
   "execution_count": null,
   "metadata": {},
   "outputs": [],
   "source": [
    "# Create a Map instance centered on Raleigh\n",
    "m = folium.Map(location=[35.7796, -78.6382], zoom_start=14, control_scale=True)\n",
    "m"
   ]
  },
  {
   "cell_type": "code",
   "execution_count": null,
   "metadata": {},
   "outputs": [],
   "source": [
    "# Show the colleges on the map\n",
    "\n",
    "# Create college points on top of the map\n",
    "for idx, row in nc_colleges_wgs84.iterrows():\n",
    "    # Get lat and lon of points\n",
    "    lon = row['geometry'].x\n",
    "    lat = row['geometry'].y\n",
    "\n",
    "    # Get college information\n",
    "    college_name = row['NAME']\n",
    "\n",
    "    #Add markers to the map\n",
    "    folium.Marker([lat,lon], popup=college_name).add_to(m)\n",
    "\n",
    "m"
   ]
  },
  {
   "cell_type": "markdown",
   "metadata": {},
   "source": [
    "Let's parse this data down to schools in Raleigh, and remove some of the information we are not interested in."
   ]
  },
  {
   "cell_type": "code",
   "execution_count": null,
   "metadata": {},
   "outputs": [],
   "source": [
    "nc_coll_raleigh = nc_colleges_wgs84[nc_colleges_wgs84['CITY'] == 'RALEIGH'].drop(['OBJECTID', \\\n",
    "    'METLNKID', 'PHONE', 'SECCLASS', 'ST_VENDOR', 'ST_VERSION', 'ADDRESS2', 'EMERGTITLE', 'EMERGPHONE',\n",
    "    'EMERGEXT', 'DIRECTIONS', 'CONTDATE', 'CONTHOW', 'GEOPREC', 'QC_QA', 'onemapSDEA', \\\n",
    "    'GEOHOW', 'GEOLINKID', 'GEODATE', 'PHONELOC'], axis=1)\n",
    "nc_coll_raleigh"
   ]
  },
  {
   "cell_type": "markdown",
   "metadata": {},
   "source": [
    "We will build our storymap with each of these schools as a chapter.\n",
    "\n",
    "Now, let's make our `Chapters.csv` with specific column headers (**do not change the headers, they work with the background Leaflet code**) and a row for each of our chapters."
   ]
  },
  {
   "cell_type": "code",
   "execution_count": null,
   "metadata": {},
   "outputs": [],
   "source": [
    "header = ['Chapter', 'Media Link', 'Media Credit', 'Media Credit Link', 'Description', \\\n",
    "    'Zoom', 'Marker', 'Marker Color', 'Location', 'Latitude', 'Longitude', 'Overlay', 'Overlay Transparency', \\\n",
    "    'GeoJSON Overlay', 'GeoJSON Feature Properties']\n",
    "\n",
    "# add a column of founding date to our nc_coll_raleigh df\n",
    "nc_coll_raleigh['FOUNDED'] = None\n",
    "nc_coll_raleigh"
   ]
  },
  {
   "cell_type": "code",
   "execution_count": null,
   "metadata": {},
   "outputs": [],
   "source": [
    "nc_coll_raleigh.loc[[22], ['FOUNDED']] = 1857 # Peace College\n",
    "nc_coll_raleigh.loc[[32], ['FOUNDED']] = 1865 # Shaw University\n",
    "nc_coll_raleigh.loc[[65], ['FOUNDED']] = 1867 # St. Augustune's University\n",
    "nc_coll_raleigh.loc[[97], ['FOUNDED']] = 1887 # NC State University\n",
    "nc_coll_raleigh.loc[[57], ['FOUNDED']] = 1891 # Meredith College\n",
    "nc_coll_raleigh.loc[[19], ['FOUNDED']] = 1963 # Wake Tech\n",
    "nc_coll_raleigh.loc[[49], ['FOUNDED']] = 1976 # University of Phoenix\n",
    "nc_coll_raleigh.loc[[0], ['FOUNDED']] = 1992 # School of communication arts\n",
    "\n",
    "nc_coll_raleigh = nc_coll_raleigh.sort_values(by='FOUNDED')\n",
    "nc_coll_raleigh"
   ]
  },
  {
   "cell_type": "code",
   "execution_count": null,
   "metadata": {},
   "outputs": [],
   "source": [
    "col_names = [name.title() for name in nc_coll_raleigh.NAME]\n",
    "col_names"
   ]
  },
  {
   "cell_type": "code",
   "execution_count": null,
   "metadata": {},
   "outputs": [],
   "source": [
    "# Create a new Chapters.csv\n",
    "\n",
    "# opens a csv file in write mode\n",
    "# the wuth statement makes sure the file closes properly when we're done\n",
    "with open('./csv/Chapters.csv', 'w', newline='') as options:\n",
    "    # create the csv writer\n",
    "    writer = csv.writer(options)\n",
    "\n",
    "    # write a row to the csv file\n",
    "    writer.writerow(header)\n",
    "\n",
    "    writer.writerow(['Overview of Raleigh'])\n",
    "\n",
    "    for name in col_names:\n",
    "        writer.writerow([name])"
   ]
  },
  {
   "cell_type": "code",
   "execution_count": null,
   "metadata": {},
   "outputs": [],
   "source": [
    "chapter_df = pd.read_csv('./csv/Chapters.csv')\n",
    "chapter_df"
   ]
  },
  {
   "cell_type": "markdown",
   "metadata": {},
   "source": [
    "Our first chapter will give a brief overview of Raleigh. We will include a fun skyline image with a link to where we got the image (the Raleigh government webpage). Our map will show a historical, georeferenced map of the Raleigh City Plan from 1834 along with blue markers for each of the 8 schools we will look at for chapters.\n",
    "\n",
    "To include images in our narative, we need to have them downloaded to our `media` directory."
   ]
  },
  {
   "cell_type": "code",
   "execution_count": null,
   "metadata": {},
   "outputs": [],
   "source": [
    "chapter_df.columns"
   ]
  },
  {
   "cell_type": "code",
   "execution_count": null,
   "metadata": {},
   "outputs": [],
   "source": [
    "# path to the image used for this chapter\n",
    "chapter_df.loc[[0], ['Media Link']] = 'media/visit_raleigh.jpg'\n",
    "# Name of image source\n",
    "chapter_df.loc[[0], ['Media Credit']] = 'Source: Raleigh Government'\n",
    "# Link to image\n",
    "chapter_df.loc[[0], ['Media Credit Link']] = 'https://raleighnc.gov/'\n",
    "# Narrative description\n",
    "chapter_df.loc[[0], ['Description']] = 'Before European colonization, the Raleigh area was home to indigenous \\\n",
    "    tribes including the Tuscarora and Occaneechi. Sir Walter Raleigh, among others, funded a group of colonists \\\n",
    "    to establish the <em>Cittie of Raleigh</em>. These colonists landed on Roanoke Island in <b>1587</b> and \\\n",
    "    later became known as the \"Lost Colony\" after the settlement was found abandonded in 1590. In <b>1770</b> \\\n",
    "    the General Assembly created Wake County. In <b>1792</b>, Raleigh was founded as the state capital of North Carolina.'\n",
    "# Zoom level\n",
    "chapter_df.loc[[0], ['Zoom']] = 15.75\n",
    "# Markers can be Hidden, Plain, or Numbered\n",
    "chapter_df.loc[[0], ['Marker']] = 'Hidden'\n",
    "# if the marker is not Hidden, you can give it a color\n",
    "chapter_df.loc[[0], ['Marker Color']] = ''\n",
    "# name of the location\n",
    "chapter_df.loc[[0], ['Location']] = 'Raleigh, NC'\n",
    "chapter_df.loc[[0], ['Latitude']] = 35.7796\n",
    "chapter_df.loc[[0], ['Longitude']] = -78.6382\n",
    "# If you want to add an overlay of an old map you can search for a georeferenced map at\n",
    "# mapwraper.net\n",
    "# add the link to the map in the Overlay section \n",
    "chapter_df.loc[[0], ['Overlay']] = 'https://mapwarper.net/maps/tile/51816/{z}/{x}/{y}.png'\n",
    "# Set how transparent you want the Overlay image/map to be\n",
    "chapter_df.loc[[0], ['Overlay Transparency']] = 0.9\n"
   ]
  },
  {
   "cell_type": "code",
   "execution_count": null,
   "metadata": {},
   "outputs": [],
   "source": [
    "chapter_df"
   ]
  },
  {
   "cell_type": "code",
   "execution_count": null,
   "metadata": {},
   "outputs": [],
   "source": [
    "nc_coll_raleigh = nc_coll_raleigh.reset_index()\n",
    "nc_coll_raleigh.head()"
   ]
  },
  {
   "cell_type": "code",
   "execution_count": null,
   "metadata": {},
   "outputs": [],
   "source": [
    "for i in nc_coll_raleigh.index:\n",
    "    # print(nc_coll_raleigh.iloc[i])\n",
    "    school_name = nc_coll_raleigh.loc[[i], ['NAME']].values[0][0].title()\n",
    "    lat = nc_coll_raleigh.loc[[i], ['Y']].values[0][0]\n",
    "    lon = nc_coll_raleigh.loc[[i], ['X']].values[0][0]\n",
    "    address = nc_coll_raleigh.loc[[i], ['ADDRESS']].values[0][0]\n",
    "\n",
    "    chapter_df.loc[chapter_df['Chapter'] == school_name, 'Latitude'] = lat\n",
    "    chapter_df.loc[chapter_df['Chapter'] == school_name, 'Longitude'] = lon\n",
    "    chapter_df.loc[chapter_df['Chapter'] == school_name, 'Location'] = address\n",
    "\n",
    "    chapter_df.loc[chapter_df['Chapter'] == school_name, 'Zoom'] = 16\n",
    "    chapter_df.loc[chapter_df['Chapter'] == school_name, 'Marker'] = 'Plain'\n",
    "    chapter_df.loc[chapter_df['Chapter'] == school_name, 'Marker Color'] = 'blue'\n",
    "\n",
    "chapter_df\n"
   ]
  },
  {
   "cell_type": "markdown",
   "metadata": {},
   "source": [
    "Now, let's save this to a CSV and see how this changes our storymap."
   ]
  },
  {
   "cell_type": "code",
   "execution_count": null,
   "metadata": {},
   "outputs": [],
   "source": [
    "chapter_df.to_csv('./csv/Chapters.csv')"
   ]
  },
  {
   "cell_type": "markdown",
   "metadata": {},
   "source": [
    "We have a map! We also have some images, links, and narrative text appearing.\n",
    "\n",
    "Now, let's add a new image and image source information for Peace College."
   ]
  },
  {
   "cell_type": "code",
   "execution_count": null,
   "metadata": {},
   "outputs": [],
   "source": [
    "# Add an image for our Peace College Chapter\n",
    "chapter_df.loc[1, \"Media Link\"] = \"media/peace.jpg\"\n",
    "\n",
    "# add source name\n",
    "chapter_df.loc[1, \"Media Credit\"] = \"Image Source: Niche\"\n",
    "\n",
    "# add the source link\n",
    "chapter_df.loc[1, \"Media Credit Link\"] = \"https://www.niche.com/colleges/william-peace-university/\""
   ]
  },
  {
   "cell_type": "code",
   "execution_count": null,
   "metadata": {},
   "outputs": [],
   "source": [
    "# Check our work\n",
    "chapter_df.head()"
   ]
  },
  {
   "cell_type": "code",
   "execution_count": null,
   "metadata": {},
   "outputs": [],
   "source": [
    "# Add to the Description of Peace College including when it was founded and an interesting fact about it\n",
    "\n",
    "chapter_df.loc[1, \"Description\"] = \"William Peace University was founded in 1857. It's motto is \\\n",
    "    <em>Esse quam videri</em> - \\\"To be, rather than to seem\\\".\"\n",
    "\n",
    "chapter_df.head()"
   ]
  },
  {
   "cell_type": "markdown",
   "metadata": {},
   "source": [
    "Next, we'll look at adding a video to our narrative bar.\n",
    "\n",
    "In order to add a YouTube video to our storymap, we need to first find a YouTube video we want to add. For this example, let's follow [this link](https://www.youtube.com/watch?v=aZQFQnbs_Ho) to a fan-made hype video of the NC State Football Team.\n",
    "\n",
    "Next, click the `Share` button at the bottom right of the video and then click `Embed`. Next, **only** copy the link that appears after `src=\"`. We will use that in our next code chunk.\n",
    "\n",
    "<!-- Link that should be copied: https://www.youtube.com/embed/aZQFQnbs_Ho\" -->"
   ]
  },
  {
   "cell_type": "code",
   "execution_count": null,
   "metadata": {},
   "outputs": [],
   "source": [
    "# Add our copied embed youtube link to the \"Media Link\" column for NC State\n",
    "chapter_df.loc[4, \"Media Link\"] = \"https://www.youtube.com/embed/aZQFQnbs_Ho\"\n",
    "\n",
    "# Save to Chapters.csv \n",
    "chapter_df.to_csv('./csv/Chapters.csv')"
   ]
  },
  {
   "cell_type": "markdown",
   "metadata": {},
   "source": [
    "Let's look at our `index.html` again. What has changed? Does it look the way you expect?\n",
    "\n",
    "### Overlay GeoJSON\n",
    "\n",
    "Next, we'll add a GeoJSON file to our map. Leaflet uses GeoJSONs instead of Shapefiles. If you mostly use Shapefiles, just open them into QGIS and save them as GeoJSONs to get them ready for the storymap.\n",
    "\n",
    "All of our GeoJSONs need be saved in the `geojson` folder.\n",
    "\n",
    "**Important:** Your GeoJSON files **MUST** be in a recognized projection and have a `\"crs\"` attribute. *It will be easiest for you if they are all in the same CRS.*\n",
    "\n",
    "Let's add our GeoJSON of NC State's campuses."
   ]
  },
  {
   "cell_type": "code",
   "execution_count": null,
   "metadata": {},
   "outputs": [],
   "source": [
    "chapter_df.loc[4, \"GeoJSON Overlay\"] = \"geojson/NCSU_campuses.geojson\"\n",
    "\n",
    "# We can also set different parameters for the GeoJSON\n",
    "# These parameters are: fillColor, weight, opacity, color, and fillOpacity\n",
    "chapter_df.loc[4, \"GeoJSON Feature Properties\"] = \"fillColor:red;color:black\"\n",
    "\n",
    "# save the Chapters.csv and look at the index.html file\n",
    "chapter_df.to_csv('./csv/Chapters.csv')"
   ]
  },
  {
   "cell_type": "markdown",
   "metadata": {},
   "source": [
    "To change a specific campus color, we will need to edit the GeoJSON itself.\n",
    "\n",
    "*NOTE: I am working on integrating another set of Leaflet code so that you will not have to manually edit the GeoJSON files, but it's not ready yet.*\n",
    "\n",
    "To edit the GeoJSON file, open it with a text-editor (like Notepad) or in VS Code. Use `ctrl+f` to find `\"properties\"`. GeoJSON files are essentially full of dictionaries. After the `\"Precinct_N\"` key:value pair, add `\"fillColor\": \"blue\",` and save your changes.\n",
    "\n",
    "Refresh your `index.html`. Do you see any changes? (Note: it can take a while for changes to be fully processed. Make sure everything is saved.)"
   ]
  },
  {
   "cell_type": "code",
   "execution_count": null,
   "metadata": {},
   "outputs": [],
   "source": [
    "# Add Wake county census tracts to your map for a chapter of your choice\n",
    "chapter_df = pd.read_csv('./csv/Chapters.csv')\n",
    "ncsu_campuses = gpd.read_file('./geojson/NCSU_campuses.geojson')\n",
    "wake_co = gpd.read_file('./geojson/wake_county_census_tracts.geojson')\n",
    "\n",
    "ncsu_campuses"
   ]
  },
  {
   "cell_type": "code",
   "execution_count": null,
   "metadata": {},
   "outputs": [],
   "source": [
    "# Try to change the census tract for the school in your chapter to a different color\n",
    "wake_co['fillColor'] = 'gray'\n",
    "\n",
    "wake_co[wake_co['AWATER']> 0]"
   ]
  },
  {
   "cell_type": "code",
   "execution_count": null,
   "metadata": {},
   "outputs": [],
   "source": [
    "wake_co.loc[wake_co['AWATER']> 100000, 'fillColor']  = 'navy'"
   ]
  },
  {
   "cell_type": "code",
   "execution_count": null,
   "metadata": {},
   "outputs": [],
   "source": [
    "wake_co.plot(color=wake_co['fillColor'])\n",
    "\n",
    "wake_co.to_file('./geojson/wake_county_census_tracts.geojson', driver='GeoJSON')"
   ]
  },
  {
   "cell_type": "markdown",
   "metadata": {},
   "source": [
    "Now, let's add another historic map of Raleigh. Go to https://mapwarper.net/ and put \"raleigh\" in the search bar. Select \"Rectified maps only\" and search. \n",
    "\n",
    "Look through the maps and find one you want to use. Click on the \"Export\" tab at the top and copy the link from the \"Tiles (Google/OSM scheme):\" option.\n",
    "\n",
    "<!-- https://mapwarper.net/maps/tile/44859/{z}/{x}/{y}.png -->"
   ]
  },
  {
   "cell_type": "code",
   "execution_count": null,
   "metadata": {},
   "outputs": [],
   "source": [
    "# Add this link to the Overlay column to a chapter of your choice\n",
    "# remember, if the historical map does not overlap with the school for that chapter, \n",
    "# we will need to manually zoom out to see it or change our zoom settings\n",
    "\n"
   ]
  },
  {
   "cell_type": "markdown",
   "metadata": {},
   "source": [
    "Try adding new images, text, vidoes, and GeoJSON files to different chapters. \n",
    "Remember to add the data we are adding to their respective folders."
   ]
  },
  {
   "cell_type": "markdown",
   "metadata": {},
   "source": [
    "### Colormaps and GeoJSONs"
   ]
  },
  {
   "cell_type": "code",
   "execution_count": null,
   "metadata": {},
   "outputs": [],
   "source": [
    "from matplotlib import colormaps\n",
    "# list(colormaps)\n",
    "# from colorspacious import cspace_converter\n",
    "\n",
    "import matplotlib.pyplot as plt\n",
    "import numpy as np\n",
    "\n",
    "import matplotlib as mpl\n",
    "\n",
    "from pylab import cm"
   ]
  },
  {
   "cell_type": "code",
   "execution_count": null,
   "metadata": {},
   "outputs": [],
   "source": [
    "# Set up to visualize the colors you want to use:\n",
    "\n",
    "# number of classes you need\n",
    "n_classes = 256\n",
    "gradient = np.linspace(0, 1, n_classes)\n",
    "gradient = np.vstack((gradient, gradient))"
   ]
  },
  {
   "cell_type": "code",
   "execution_count": null,
   "metadata": {},
   "outputs": [],
   "source": [
    "# Choose the color ramp you want\n",
    "colormap_name = 'BuPu'\n",
    "\n",
    "# Plot the color map\n",
    "plt.imshow(gradient, aspect='auto', cmap=mpl.colormaps[colormap_name])"
   ]
  },
  {
   "cell_type": "code",
   "execution_count": null,
   "metadata": {},
   "outputs": [],
   "source": [
    "# number of classes you need\n",
    "n_classes = 10\n",
    "gradient = np.linspace(0, 1, n_classes)\n",
    "gradient = np.vstack((gradient, gradient))\n",
    "\n",
    "# Choose the color ramp you want\n",
    "colormap_name = 'BuPu'\n",
    "\n",
    "# Plot the color map\n",
    "plt.imshow(gradient, aspect='auto', cmap=mpl.colormaps[colormap_name])"
   ]
  },
  {
   "cell_type": "markdown",
   "metadata": {},
   "source": [
    "#### Exploring colormaps\n",
    "Check out more details on colormaps [here](https://matplotlib.org/stable/users/explain/colors/colormaps.html)"
   ]
  },
  {
   "cell_type": "code",
   "execution_count": null,
   "metadata": {},
   "outputs": [],
   "source": [
    "# adapted from matplotlib documentation\n",
    "def plot_color_gradients(category, cmap_list, gradient):\n",
    "    # Create figure and adjust figure height to number of colormaps\n",
    "    nrows = len(cmap_list)\n",
    "    figh = 0.35 + 0.15 + (nrows + (nrows - 1) * 0.1) * 0.22\n",
    "    fig, axs = plt.subplots(nrows=nrows + 1, figsize=(8, figh+2.5))\n",
    "    fig.subplots_adjust(top=1 - 0.35 / figh, bottom=0.25 / figh,\n",
    "                        left=0.2, right=0.99)\n",
    "    axs[0].set_title(f'{category} colormaps', fontsize=16)\n",
    "\n",
    "    for ax, name in zip(axs, cmap_list):\n",
    "        ax.imshow(gradient, aspect='auto', cmap=mpl.colormaps[name])\n",
    "        ax.text(-0.01, 0.5, name, va='center', ha='right', fontsize=14,\n",
    "                transform=ax.transAxes)\n",
    "\n",
    "    # Turn off *all* ticks & spines, not just the ones with colormaps.\n",
    "    for ax in axs:\n",
    "        ax.set_axis_off()\n",
    "\n",
    "    # # Save colormap list for later.\n",
    "    # cmaps[category] = cmap_list"
   ]
  },
  {
   "cell_type": "code",
   "execution_count": null,
   "metadata": {},
   "outputs": [],
   "source": [
    "plot_color_gradients('Perceptually Uniform Sequential',\n",
    "                     ['viridis', 'plasma', 'inferno', 'magma', 'cividis'],\n",
    "                     gradient)"
   ]
  },
  {
   "cell_type": "code",
   "execution_count": null,
   "metadata": {},
   "outputs": [],
   "source": [
    "plot_color_gradients('Sequential',\n",
    "                     ['Greys', 'Purples', 'Blues', 'Greens', 'Oranges', 'Reds',\n",
    "                      'YlOrBr', 'YlOrRd', 'OrRd', 'PuRd', 'RdPu', 'BuPu',\n",
    "                      'GnBu', 'PuBu', 'YlGnBu', 'PuBuGn', 'BuGn', 'YlGn'],\n",
    "                      gradient)"
   ]
  },
  {
   "cell_type": "code",
   "execution_count": null,
   "metadata": {},
   "outputs": [],
   "source": [
    "plot_color_gradients('Diverging',\n",
    "                     ['PiYG', 'PRGn', 'BrBG', 'PuOr', 'RdGy', 'RdBu', 'RdYlBu',\n",
    "                      'RdYlGn', 'Spectral', 'coolwarm', 'bwr', 'seismic'],\n",
    "                      gradient)"
   ]
  },
  {
   "cell_type": "markdown",
   "metadata": {},
   "source": [
    "#### Get colormap values to use in GeoJSON"
   ]
  },
  {
   "cell_type": "code",
   "execution_count": null,
   "metadata": {},
   "outputs": [],
   "source": [
    "def plot_hex_color_gradients(cmap, rows:int=2, columns:int=5):\n",
    "    \n",
    "    # Get list of hexidecimal color values\n",
    "    cmap_hex_lst = [mpl.colors.rgb2hex(cmap(c)) for c in range(cmap.N)]\n",
    "    \n",
    "    # Reorder hex labels in a snake pattern - start with top left, end bottom left\n",
    "    cmap_hex_lst_reordered = np.reshape(cmap_hex_lst, (rows, columns))\n",
    "    cmap_hex_lst_reordered[1] = np.flip(cmap_hex_lst_reordered[1], 0)\n",
    "\n",
    "    # Reorder color values in a snake pattern - start with top left, end bottom left\n",
    "    cmap_col_reordered = np.reshape(list(range(cmap.N)), (rows, columns))\n",
    "    cmap_col_reordered[1] = np.flip(cmap_col_reordered[1], 0)\n",
    "\n",
    "\n",
    "    # Plot\n",
    "    fig, ax = plt.subplots(figsize=(cmap.N, columns / rows + 1))\n",
    "    im = ax.imshow(cmap_col_reordered, aspect='auto', cmap=cmap)\n",
    "\n",
    "    # Loop over data dimensions and create text annotations.\n",
    "    for i in range(rows):\n",
    "        if i == 0:\n",
    "            text_col = 'black'\n",
    "        else:\n",
    "            text_col = 'w'\n",
    "        for j in range(columns):\n",
    "            text = ax.text(j, i, cmap_hex_lst_reordered[i, j],\n",
    "                        ha=\"center\", va=\"center\", color=text_col,\n",
    "                        size=16)\n",
    "    # Remove axis titles    \n",
    "    ax.set_axis_off()\n",
    "    \n",
    "    # Add name of colormap\n",
    "    ax.set_title(cmap.name, size = 20)\n",
    "\n",
    "    # return regular ordered hex color values\n",
    "    return(cmap_hex_lst)"
   ]
  },
  {
   "cell_type": "code",
   "execution_count": null,
   "metadata": {},
   "outputs": [],
   "source": [
    "cmap = cm.get_cmap('BuPu', 10)\n",
    "cmap\n"
   ]
  },
  {
   "cell_type": "code",
   "execution_count": null,
   "metadata": {},
   "outputs": [],
   "source": [
    "cmap_hex_values = plot_hex_color_gradients(cmap)"
   ]
  },
  {
   "cell_type": "code",
   "execution_count": null,
   "metadata": {},
   "outputs": [],
   "source": [
    "cmap_hex_values"
   ]
  },
  {
   "cell_type": "code",
   "execution_count": null,
   "metadata": {},
   "outputs": [],
   "source": [
    "print(\n",
    "f'''\n",
    "min: {np.min(wake_co['AWATER'])}\n",
    "10: {np.percentile(wake_co['AWATER'], 10)}\n",
    "20: {np.percentile(wake_co['AWATER'], 20)}\n",
    "30: {np.percentile(wake_co['AWATER'], 30)}\n",
    "40: {np.percentile(wake_co['AWATER'], 40)}\n",
    "50: {np.percentile(wake_co['AWATER'], 50)}\n",
    "60: {np.percentile(wake_co['AWATER'], 60)}\n",
    "70: {np.percentile(wake_co['AWATER'], 70)}\n",
    "80: {np.percentile(wake_co['AWATER'], 80)}\n",
    "90: {np.percentile(wake_co['AWATER'], 90)}\n",
    "max: {np.max(wake_co['AWATER'])}\n",
    "''')"
   ]
  },
  {
   "cell_type": "code",
   "execution_count": null,
   "metadata": {},
   "outputs": [],
   "source": [
    "wake_co['fillColor'] = cmap_hex_values[0]\n",
    "\n",
    "for i in range(cmap.N):\n",
    "    # print((i+1) * 10)\n",
    "    print(np.percentile(wake_co['AWATER'], (i+1) * 10))\n",
    "    print(cmap_hex_values[i])\n",
    "    wake_co.loc[wake_co['AWATER'] >= np.percentile(wake_co['AWATER'], (i+1) * 10), 'fillColor']  = cmap_hex_values[i]\n",
    "wake_co\n"
   ]
  },
  {
   "cell_type": "code",
   "execution_count": null,
   "metadata": {},
   "outputs": [],
   "source": [
    "wake_co.plot(color=wake_co['fillColor'])\n"
   ]
  },
  {
   "cell_type": "code",
   "execution_count": null,
   "metadata": {},
   "outputs": [],
   "source": [
    "wake_co.to_file('./geojson/wake_co_census_colored_AWATER.geojson', driver='GeoJSON')\n"
   ]
  },
  {
   "cell_type": "code",
   "execution_count": null,
   "metadata": {},
   "outputs": [],
   "source": [
    "chapter_df.loc[chapter_df['Chapter']=='Wake Technical Community College', 'GeoJSON Overlay'] = 'geojson/wake_co_census_colored_AWATER.geojson'\n",
    "chapter_df.loc[chapter_df['Chapter']=='Wake Technical Community College', 'GeoJSON Feature Properties'] = 'fillColor:gray;color:white'\n"
   ]
  },
  {
   "cell_type": "code",
   "execution_count": null,
   "metadata": {},
   "outputs": [],
   "source": [
    "chapter_df.to_csv('./csv/Chapters.csv')"
   ]
  },
  {
   "cell_type": "code",
   "execution_count": null,
   "metadata": {},
   "outputs": [],
   "source": []
  }
 ],
 "metadata": {
  "kernelspec": {
   "display_name": "Python 3.10.2 ('dswe')",
   "language": "python",
   "name": "python3"
  },
  "language_info": {
   "codemirror_mode": {
    "name": "ipython",
    "version": 3
   },
   "file_extension": ".py",
   "mimetype": "text/x-python",
   "name": "python",
   "nbconvert_exporter": "python",
   "pygments_lexer": "ipython3",
   "version": "3.11.4"
  },
  "orig_nbformat": 4,
  "vscode": {
   "interpreter": {
    "hash": "706dd80fecb94a516eb598739559eb7d29ee8d341a252f74e6dbcc3dc05a40d3"
   }
  }
 },
 "nbformat": 4,
 "nbformat_minor": 2
}
